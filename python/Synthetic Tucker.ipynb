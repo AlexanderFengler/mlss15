{
 "cells": [
  {
   "cell_type": "markdown",
   "metadata": {},
   "source": [
    "# Decomposition of Synthetic Tucker tensor using gradient descent"
   ]
  },
  {
   "cell_type": "code",
   "execution_count": 2,
   "metadata": {
    "collapsed": true
   },
   "outputs": [],
   "source": [
    "import numpy as np\n",
    "from scipy import sparse\n",
    "import matplotlib.pylab as plt\n",
    "import tensor\n",
    "%matplotlib inline "
   ]
  },
  {
   "cell_type": "code",
   "execution_count": 10,
   "metadata": {
    "collapsed": false
   },
   "outputs": [],
   "source": [
    "# Generate synthetic Tucker tensor\n",
    "sz=(50, 50, 20)\n",
    "dtrue=(7, 8, 9)\n",
    "X0=tensor.randtensor3(sz,dtrue)"
   ]
  },
  {
   "cell_type": "code",
   "execution_count": 15,
   "metadata": {
    "collapsed": false
   },
   "outputs": [
    {
     "data": {
      "text/plain": [
       "(0, 10)"
      ]
     },
     "execution_count": 15,
     "metadata": {},
     "output_type": "execute_result"
    },
    {
     "data": {
      "image/png": "[encoded data removed]",
      "text/plain": [
       "<matplotlib.figure.Figure at 0x10d012110>"
      ]
     },
     "metadata": {},
     "output_type": "display_data"
    }
   ],
   "source": [
    "# Plot the singular values\n",
    "plt.rcParams['figure.figsize']=(10,5)\n",
    "plt.subplot(1,3,1); plt.plot(np.linalg.svd(tensor.unfold(X0,0),compute_uv=False),'-x'); plt.xlim(0,10)\n",
    "plt.subplot(1,3,2); plt.plot(np.linalg.svd(tensor.unfold(X0,1),compute_uv=False),'-x'); plt.xlim(0,10)\n",
    "plt.subplot(1,3,3); plt.plot(np.linalg.svd(tensor.unfold(X0,2),compute_uv=False),'-x'); plt.xlim(0,10)"
   ]
  },
  {
   "cell_type": "code",
   "execution_count": 241,
   "metadata": {
    "collapsed": false
   },
   "outputs": [],
   "source": [
    "# Take random samples\n",
    "M=6000\n",
    "ind=np.random.permutation(np.prod(sz));\n",
    "ind_tr=ind[:M]\n",
    "ind_te=ind[M:]\n",
    "Ytr=[X0.ravel()[i] for i in ind_tr]\n",
    "Yte=[X0.ravel()[i] for i in ind_te]"
   ]
  },
  {
   "cell_type": "code",
   "execution_count": 242,
   "metadata": {
    "collapsed": false
   },
   "outputs": [],
   "source": [
    "# Vectorize the data and get the indices\n",
    "scale=np.array(Ytr).std()\n",
    "yvec=Ytr/scale\n",
    "I,J,K=np.unravel_index(ind_tr,sz)\n",
    "Ite,Jte,Kte=np.unravel_index(ind_te,sz)"
   ]
  },
  {
   "cell_type": "code",
   "execution_count": 243,
   "metadata": {
    "collapsed": false
   },
   "outputs": [],
   "source": [
    "# Prepare index matrices\n",
    "indU = sparse.coo_matrix((np.ones(M),(I,range(M))),shape=(sz[0],M))\n",
    "indV = sparse.coo_matrix((np.ones(M),(J,range(M))),shape=(sz[1],M))\n",
    "indW = sparse.coo_matrix((np.ones(M),(K,range(M))),shape=(sz[2],M))"
   ]
  },
  {
   "cell_type": "code",
   "execution_count": 244,
   "metadata": {
    "collapsed": false
   },
   "outputs": [],
   "source": [
    "# Initialize randomly\n",
    "dd=dtrue\n",
    "U=np.random.randn(sz[0],dd[0])/np.sqrt(sz[0])\n",
    "V=np.random.randn(sz[1],dd[1])/np.sqrt(sz[1])\n",
    "W=np.random.randn(sz[2],dd[2])/np.sqrt(sz[2])\n",
    "C=np.random.randn(dd[0],dd[1],dd[2])"
   ]
  },
  {
   "cell_type": "code",
   "execution_count": 245,
   "metadata": {
    "collapsed": false
   },
   "outputs": [
    {
     "name": "stdout",
     "output_type": "stream",
     "text": [
      "kk=0 error=1.0076\n",
      "kk=100 error=0.305321\n",
      "kk=200 error=0.152619\n",
      "kk=300 error=0.0859686\n",
      "kk=400 error=0.041905\n",
      "kk=500 error=0.0218124\n",
      "kk=600 error=0.0112118\n",
      "kk=700 error=0.00604596\n",
      "kk=800 error=0.00343939\n",
      "kk=900 error=0.00203602\n"
     ]
    }
   ],
   "source": [
    "# Gradient descent\n",
    "maxiter=1000\n",
    "lmd=0\n",
    "step=2e-3\n",
    "for kk in range(maxiter):\n",
    "    pred = ((np.dot(C, W[K,:].T) * V[J,:].T).sum(1) * U[I,:].T).sum(0)\n",
    "    gg = (pred- yvec).reshape((M,1))\n",
    "    Unew = (1-step*lmd) * U - step * (indU*(gg * (np.dot(C, W[K,:].T) * V[J,:].T).sum(1).T))\n",
    "    Vnew = (1-step*lmd) * V - step * (indV*(gg * (np.dot(C, W[K,:].T).transpose((1,0,2)) * U[I,:].T).sum(1).T))\n",
    "    Wnew = (1-step*lmd) * W - step * (indW*(gg * (np.dot(C.transpose(2,0,1), V[J,:].T) * U[I,:].T).sum(1).T))\n",
    "    Cnew = (1-step*lmd) * C - step * (U[I,:].T.reshape((dd[0],1,M,1)) * (V[J,:].T.reshape((dd[1],M,1)) * (gg * W[K,:]))).sum(2)\n",
    "    U, V, W, C=Unew, Vnew, Wnew, Cnew\n",
    "    if kk % 100 == 0:\n",
    "        print 'kk=%d error=%g' % (kk, (gg**2).sum()/M)"
   ]
  },
  {
   "cell_type": "code",
   "execution_count": 248,
   "metadata": {
    "collapsed": false
   },
   "outputs": [
    {
     "data": {
      "text/plain": [
       "0.0028016817740168006"
      ]
     },
     "execution_count": 248,
     "metadata": {},
     "output_type": "execute_result"
    }
   ],
   "source": [
    "# Predict the missing entries\n",
    "pred = ((np.dot(C, W[Kte,:].T) * V[Jte,:].T).sum(1) * U[Ite,:].T).sum(0)\n",
    "np.mean((pred-Yte/scale)**2)"
   ]
  },
  {
   "cell_type": "code",
   "execution_count": 247,
   "metadata": {
    "collapsed": false
   },
   "outputs": [
    {
     "data": {
      "text/plain": [
       "[<matplotlib.lines.Line2D at 0x10eb02b10>]"
      ]
     },
     "execution_count": 247,
     "metadata": {},
     "output_type": "execute_result"
    },
    {
     "data": {
      "image/png": "[encoded data removed]",
      "text/plain": [
       "<matplotlib.figure.Figure at 0x10e0457d0>"
      ]
     },
     "metadata": {},
     "output_type": "display_data"
    }
   ],
   "source": [
    "plt.plot(pred , Yte/scale, 'x')"
   ]
  }
 ],
 "metadata": {
  "kernelspec": {
   "display_name": "Python 2",
   "language": "python",
   "name": "python2"
  },
  "language_info": {
   "codemirror_mode": {
    "name": "ipython",
    "version": 2
   },
   "file_extension": ".py",
   "mimetype": "text/x-python",
   "name": "python",
   "nbconvert_exporter": "python",
   "pygments_lexer": "ipython2",
   "version": "2.7.9"
  }
 },
 "nbformat": 4,
 "nbformat_minor": 0
}
