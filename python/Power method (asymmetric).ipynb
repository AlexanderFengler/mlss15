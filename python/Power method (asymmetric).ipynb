{
 "cells": [
  {
   "cell_type": "code",
   "execution_count": 2,
   "metadata": {
    "collapsed": true
   },
   "outputs": [],
   "source": [
    "import numpy as np\n",
    "from numpy.linalg import norm\n",
    "import matplotlib.pylab as plt\n",
    "from scipy.io import loadmat\n",
    "import tensor\n",
    "import matplotlib.pylab as plt\n",
    "%matplotlib inline"
   ]
  },
  {
   "cell_type": "code",
   "execution_count": 3,
   "metadata": {
    "collapsed": false
   },
   "outputs": [],
   "source": [
    "U=tensor.randomortho(50,10); V=tensor.randomortho(50,10); W=tensor.randomortho(50,10)"
   ]
  },
  {
   "cell_type": "code",
   "execution_count": 4,
   "metadata": {
    "collapsed": false
   },
   "outputs": [],
   "source": [
    "X0=np.dot(U.reshape((50,1,1,10)) * V.reshape((50,1,10)) * W, range(1,11))\n",
    "Y=X0+1.0/np.sqrt(50)*np.random.randn(50,50,50)"
   ]
  },
  {
   "cell_type": "code",
   "execution_count": 5,
   "metadata": {
    "collapsed": false
   },
   "outputs": [
    {
     "data": {
      "text/plain": [
       "[<matplotlib.lines.Line2D at 0x10e174e10>]"
      ]
     },
     "execution_count": 5,
     "metadata": {},
     "output_type": "execute_result"
    },
    {
     "data": {
      "image/png": "[encoded data removed]",
      "text/plain": [
       "<matplotlib.figure.Figure at 0x10ceef090>"
      ]
     },
     "metadata": {},
     "output_type": "display_data"
    }
   ],
   "source": [
    "# Plot the singular values\n",
    "plt.rcParams['figure.figsize']=(10,5)\n",
    "plt.subplot(1,3,1); plt.plot(np.linalg.svd(tensor.unfold(X0,0),compute_uv=False),'-x')\n",
    "plt.subplot(1,3,2); plt.plot(np.linalg.svd(tensor.unfold(X0,1),compute_uv=False),'-x')\n",
    "plt.subplot(1,3,3); plt.plot(np.linalg.svd(tensor.unfold(X0,2),compute_uv=False),'-x')"
   ]
  },
  {
   "cell_type": "code",
   "execution_count": 6,
   "metadata": {
    "collapsed": false
   },
   "outputs": [
    {
     "name": "stdout",
     "output_type": "stream",
     "text": [
      "kk=0, val=1.16322 res=0.887447\n",
      "kk=1, val=1.22619 res=1.04932\n",
      "kk=2, val=1.71681 res=1.17919\n",
      "kk=3, val=3.75405 res=0.454792\n",
      "kk=4, val=8.99419 res=0.0572391\n",
      "kk=5, val=10.0103 res=0.00174239\n",
      "kk=6, val=10.0416 res=6.93716e-05\n",
      "kk=7, val=10.0428 res=3.38119e-06\n",
      "kk=8, val=10.0429 res=1.87129e-07\n",
      " norm(X)=52.8055\n",
      "kk=0, val=1.10271 res=1.00273\n",
      "kk=1, val=1.22114 res=1.03137\n",
      "kk=2, val=2.06901 res=0.643822\n",
      "kk=3, val=6.68147 res=0.158101\n",
      "kk=4, val=9.12225 res=0.0079347\n",
      "kk=5, val=9.25074 res=0.000406379\n",
      "kk=6, val=9.25709 res=2.58727e-05\n",
      "kk=7, val=9.25748 res=1.81776e-06\n",
      "kk=8, val=9.25751 res=1.34298e-07\n",
      " norm(X)=51.9877\n",
      "kk=0, val=0.998866 res=1.07512\n",
      "kk=1, val=0.977407 res=1.20147\n",
      "kk=2, val=1.12769 res=1.01691\n",
      "kk=3, val=1.32053 res=0.823838\n",
      "kk=4, val=3.21745 res=0.42947\n",
      "kk=5, val=7.27013 res=0.0661887\n",
      "kk=6, val=8.23839 res=0.00348767\n",
      "kk=7, val=8.28971 res=0.000223236\n",
      "kk=8, val=8.29292 res=1.59956e-05\n",
      "kk=9, val=8.29315 res=1.21702e-06\n",
      "kk=10, val=8.29317 res=9.63658e-08\n",
      " norm(X)=51.322\n",
      "kk=0, val=0.970185 res=0.964823\n",
      "kk=1, val=1.02253 res=0.968765\n",
      "kk=2, val=1.15765 res=1.06785\n",
      "kk=3, val=1.0608 res=1.19433\n",
      "kk=4, val=1.10985 res=0.895163\n",
      "kk=5, val=1.12072 res=0.67115\n",
      "kk=6, val=3.01534 res=0.340279\n",
      "kk=7, val=6.23087 res=0.0573701\n",
      "kk=8, val=6.96749 res=0.00489376\n",
      "kk=9, val=7.03252 res=0.000484332\n",
      "kk=10, val=7.03906 res=5.43611e-05\n",
      "kk=11, val=7.03981 res=6.62163e-06\n",
      "kk=12, val=7.0399 res=8.47706e-07\n",
      " norm(X)=50.8369\n",
      "kk=0, val=1.01076 res=0.949583\n",
      "kk=1, val=1.00785 res=0.842365\n",
      "kk=2, val=1.16396 res=1.01114\n",
      "kk=3, val=0.945024 res=0.999198\n",
      "kk=4, val=1.05768 res=0.927966\n",
      "kk=5, val=1.0682 res=0.983697\n",
      "kk=6, val=1.12753 res=0.810188\n",
      "kk=7, val=1.11153 res=0.952345\n",
      "kk=8, val=1.11571 res=0.699458\n",
      "kk=9, val=1.56644 res=0.859837\n",
      "kk=10, val=1.61842 res=0.781425\n",
      "kk=11, val=1.96535 res=0.678634\n",
      "kk=12, val=3.07202 res=0.45585\n",
      "kk=13, val=4.63092 res=0.175635\n",
      "kk=14, val=5.94284 res=0.030057\n",
      "kk=15, val=6.1944 res=0.00414924\n",
      "kk=16, val=6.22774 res=0.00060353\n",
      "kk=17, val=6.23246 res=9.10363e-05\n",
      "kk=18, val=6.23315 res=1.41694e-05\n",
      "kk=19, val=6.23326 res=2.25455e-06\n",
      "kk=20, val=6.23328 res=3.65576e-07\n",
      " norm(X)=50.4533\n",
      "kk=0, val=1.21626 res=0.836191\n",
      "kk=1, val=1.14099 res=0.659247\n",
      "kk=2, val=1.53692 res=0.482376\n",
      "kk=3, val=2.19528 res=0.365435\n",
      "kk=4, val=2.604 res=0.266985\n",
      "kk=5, val=3.04509 res=0.191295\n",
      "kk=6, val=3.26198 res=0.152972\n",
      "kk=7, val=3.50692 res=0.110884\n",
      "kk=8, val=3.87923 res=0.0690625\n",
      "kk=9, val=4.26745 res=0.0295726\n",
      "kk=10, val=4.49042 res=0.00787559\n",
      "kk=11, val=4.55124 res=0.00193295\n",
      "kk=12, val=4.56586 res=0.000509763\n",
      "kk=13, val=4.56969 res=0.000143697\n",
      "kk=14, val=4.57077 res=4.24898e-05\n",
      "kk=15, val=4.5711 res=1.29694e-05\n",
      "kk=16, val=4.5712 res=4.05565e-06\n",
      "kk=17, val=4.57123 res=1.29179e-06\n",
      "kk=18, val=4.57125 res=4.17678e-07\n",
      " norm(X)=50.2458\n",
      "kk=0, val=0.974121 res=0.937384\n",
      "kk=1, val=1.00104 res=0.792152\n",
      "kk=2, val=1.26523 res=0.711788\n",
      "kk=3, val=1.76995 res=0.555184\n",
      "kk=4, val=3.05808 res=0.289828\n",
      "kk=5, val=4.60739 res=0.0739783\n",
      "kk=6, val=5.10411 res=0.0147666\n",
      "kk=7, val=5.20244 res=0.00311308\n",
      "kk=8, val=5.22256 res=0.000689708\n",
      "kk=9, val=5.22681 res=0.000161686\n",
      "kk=10, val=5.22777 res=3.93546e-05\n",
      "kk=11, val=5.22799 res=9.86206e-06\n",
      "kk=12, val=5.22805 res=2.52212e-06\n",
      "kk=13, val=5.22806 res=6.5475e-07\n",
      " norm(X)=49.973\n",
      "kk=0, val=0.970638 res=0.990534\n",
      "kk=1, val=0.998904 res=1.07672\n",
      "kk=2, val=1.01352 res=1.29601\n",
      "kk=3, val=1.1332 res=0.686616\n",
      "kk=4, val=1.24376 res=0.76354\n",
      "kk=5, val=1.2152 res=0.880867\n",
      "kk=6, val=0.944561 res=1.0608\n",
      "kk=7, val=0.918176 res=0.937683\n",
      "kk=8, val=0.977708 res=0.89295\n",
      "kk=9, val=1.14547 res=0.958835\n",
      "kk=10, val=1.06701 res=0.860547\n",
      "kk=11, val=1.09908 res=1.26789\n",
      "kk=12, val=1.09284 res=0.839679\n",
      "kk=13, val=0.97877 res=1.09245\n",
      "kk=14, val=1.02515 res=1.24723\n",
      "kk=15, val=1.08228 res=0.624436\n",
      "kk=16, val=1.20913 res=0.711645\n",
      "kk=17, val=1.29404 res=0.854433\n",
      "kk=18, val=1.0732 res=0.96006\n",
      "kk=19, val=0.949051 res=1.12919\n",
      "kk=20, val=1.02052 res=1.0863\n",
      "kk=21, val=1.03491 res=1.14372\n",
      "kk=22, val=0.990281 res=1.23803\n",
      "kk=23, val=1.04656 res=0.836008\n",
      "kk=24, val=1.01167 res=0.873704\n",
      "kk=25, val=1.0386 res=0.715409\n",
      "kk=26, val=1.15004 res=0.794169\n",
      "kk=27, val=1.12404 res=0.792119\n",
      "kk=28, val=1.27607 res=0.69844\n",
      "kk=29, val=1.25789 res=0.760167\n",
      "kk=30, val=1.32889 res=1.00227\n",
      "kk=31, val=1.05403 res=1.19742\n",
      "kk=32, val=1.00256 res=0.960225\n",
      "kk=33, val=1.05494 res=1.14263\n",
      "kk=34, val=1.00162 res=1.11114\n",
      "kk=35, val=1.04333 res=0.953428\n",
      "kk=36, val=1.18328 res=0.950171\n",
      "kk=37, val=0.922464 res=0.835428\n",
      "kk=38, val=1.1599 res=0.96727\n",
      "kk=39, val=1.00102 res=1.06448\n",
      "kk=40, val=0.995474 res=0.9778\n",
      "kk=41, val=1.002 res=0.974413\n",
      "kk=42, val=1.08579 res=0.815658\n",
      "kk=43, val=1.106 res=1.05521\n",
      "kk=44, val=1.05122 res=0.881942\n",
      "kk=45, val=1.04193 res=1.02457\n",
      "kk=46, val=1.02782 res=1.15293\n",
      "kk=47, val=1.05483 res=1.3421\n",
      "kk=48, val=1.00278 res=0.719609\n",
      "kk=49, val=1.31426 res=0.94304\n",
      " norm(X)=49.9948\n",
      "kk=0, val=1.11465 res=0.895015\n",
      "kk=1, val=0.958362 res=0.838853\n",
      "kk=2, val=1.02712 res=1.00124\n",
      "kk=3, val=0.992239 res=0.961878\n",
      "kk=4, val=1.0455 res=1.30566\n",
      "kk=5, val=1.06497 res=0.941136\n",
      "kk=6, val=1.05873 res=1.11143\n",
      "kk=7, val=1.14936 res=0.752541\n",
      "kk=8, val=1.31871 res=0.624885\n",
      "kk=9, val=1.45843 res=0.612205\n",
      "kk=10, val=1.54906 res=0.650457\n",
      "kk=11, val=1.52001 res=0.720212\n",
      "kk=12, val=1.36734 res=0.788818\n",
      "kk=13, val=1.36169 res=0.916563\n",
      "kk=14, val=1.00387 res=1.15856\n",
      "kk=15, val=0.902163 res=1.18852\n",
      "kk=16, val=1.09977 res=1.02461\n",
      "kk=17, val=0.983759 res=0.669227\n",
      "kk=18, val=1.17114 res=0.774733\n",
      "kk=19, val=1.1653 res=0.770331\n",
      "kk=20, val=1.23891 res=0.649929\n",
      "kk=21, val=1.4317 res=0.459216\n",
      "kk=22, val=1.78935 res=0.333606\n",
      "kk=23, val=1.99227 res=0.257402\n",
      "kk=24, val=2.09402 res=0.208138\n",
      "kk=25, val=2.21253 res=0.176978\n",
      "kk=26, val=2.24073 res=0.155206\n",
      "kk=27, val=2.31324 res=0.137251\n",
      "kk=28, val=2.32586 res=0.124751\n",
      "kk=29, val=2.36971 res=0.114598\n",
      "kk=30, val=2.3748 res=0.108003\n",
      "kk=31, val=2.40077 res=0.102687\n",
      "kk=32, val=2.40185 res=0.0990527\n",
      "kk=33, val=2.41909 res=0.0959157\n",
      "kk=34, val=2.41856 res=0.093482\n",
      "kk=35, val=2.43212 res=0.0913024\n",
      "kk=36, val=2.43087 res=0.0895271\n",
      "kk=37, val=2.44263 res=0.0879981\n",
      "kk=38, val=2.4409 res=0.0868379\n",
      "kk=39, val=2.45128 res=0.0859328\n",
      "kk=40, val=2.44921 res=0.0854085\n",
      "kk=41, val=2.45811 res=0.0850884\n",
      "kk=42, val=2.45599 res=0.0851495\n",
      "kk=43, val=2.46313 res=0.0853078\n",
      "kk=44, val=2.46146 res=0.0858482\n",
      "kk=45, val=2.46651 res=0.0863622\n",
      "kk=46, val=2.46584 res=0.0872791\n",
      "kk=47, val=2.46848 res=0.0880734\n",
      "kk=48, val=2.46925 res=0.0893053\n",
      "kk=49, val=2.46925 res=0.0903655\n",
      " norm(X)=49.9449\n",
      "kk=0, val=1.00497 res=1.005\n",
      "kk=1, val=0.965025 res=0.975638\n",
      "kk=2, val=0.984533 res=0.809586\n",
      "kk=3, val=1.0161 res=0.757564\n",
      "kk=4, val=1.03315 res=0.965499\n",
      "kk=5, val=1.12859 res=1.24937\n",
      "kk=6, val=1.12239 res=0.98877\n",
      "kk=7, val=0.994996 res=1.10822\n",
      "kk=8, val=0.917293 res=1.22257\n",
      "kk=9, val=1.17873 res=1.08606\n",
      "kk=10, val=0.955598 res=1.16314\n",
      "kk=11, val=1.0652 res=0.816361\n",
      "kk=12, val=1.09681 res=1.00566\n",
      "kk=13, val=0.993612 res=0.879568\n",
      "kk=14, val=1.0836 res=0.863128\n",
      "kk=15, val=1.09936 res=0.873732\n",
      "kk=16, val=1.08263 res=0.82673\n",
      "kk=17, val=1.08351 res=0.781268\n",
      "kk=18, val=1.16597 res=0.91478\n",
      "kk=19, val=1.03879 res=0.788318\n",
      "kk=20, val=1.12666 res=0.917823\n",
      "kk=21, val=1.08204 res=0.781826\n",
      "kk=22, val=1.27721 res=0.753477\n",
      "kk=23, val=1.27019 res=0.775926\n",
      "kk=24, val=1.278 res=0.87869\n",
      "kk=25, val=1.26079 res=1.00557\n",
      "kk=26, val=0.95062 res=0.873462\n",
      "kk=27, val=1.11663 res=0.975646\n",
      "kk=28, val=1.09731 res=1.31547\n",
      "kk=29, val=1.08534 res=0.840044\n",
      "kk=30, val=1.2424 res=1.17409\n",
      "kk=31, val=1.10658 res=1.02047\n",
      "kk=32, val=1.02742 res=0.885885\n",
      "kk=33, val=1.02757 res=0.82075\n",
      "kk=34, val=1.09557 res=0.912595\n",
      "kk=35, val=1.01381 res=0.974337\n",
      "kk=36, val=0.968613 res=1.01776\n",
      "kk=37, val=0.916737 res=1.03069\n",
      "kk=38, val=0.996784 res=0.905072\n",
      "kk=39, val=0.972077 res=0.887919\n",
      "kk=40, val=0.96946 res=1.2051\n",
      "kk=41, val=1.06898 res=0.889758\n",
      "kk=42, val=1.09019 res=1.1388\n",
      "kk=43, val=0.957392 res=1.12283\n",
      "kk=44, val=1.08603 res=0.718233\n",
      "kk=45, val=1.28156 res=0.929639\n",
      "kk=46, val=1.05418 res=1.1005\n",
      "kk=47, val=1.01631 res=0.972448\n",
      "kk=48, val=0.994927 res=1.25328\n",
      "kk=49, val=1.23676 res=0.914203\n",
      " norm(X)=49.9586\n"
     ]
    }
   ],
   "source": [
    "# Power method\n",
    "X=Y\n",
    "Uhat=[]; Vhat=[]; What=[]\n",
    "vals=[]\n",
    "for rr in range(10):\n",
    "    uu=np.random.randn(50); uu/=norm(uu)\n",
    "    vv=np.random.randn(50); vv/=norm(vv)\n",
    "    ww=np.random.randn(50); ww/=norm(ww)\n",
    "    \n",
    "    for kk in range(50):\n",
    "        unew = ((X * ww).sum(2) * vv).sum(1)\n",
    "        vnew = ((X.transpose((1,2,0)) * uu).sum(2) * ww).sum(1)\n",
    "        wnew = ((X.transpose((2,0,1)) * vv).sum(2) * uu).sum(1)\n",
    "        val=np.sqrt((norm(unew)**2 + norm(vnew)**2 + norm(wnew)**2)/3)\n",
    "        unew/=norm(unew); vnew/=norm(vnew); wnew/=norm(wnew)\n",
    "        res  = 1-(np.dot(unew.T,uu)+np.dot(vnew.T,vv)+np.dot(wnew.T,ww))/3\n",
    "        print 'kk=%d, val=%g res=%g' % (kk, val, res)\n",
    "        uu=unew; vv=vnew; ww=wnew\n",
    "        if res<1e-6:\n",
    "            break\n",
    "    Uhat.append(uu); Vhat.append(vv); What.append(ww)\n",
    "    vals.append(val)\n",
    "    X=X-val* tensor.outer((uu,vv,ww))\n",
    "    print ' norm(X)=%g' % (norm(X.ravel()))\n"
   ]
  },
  {
   "cell_type": "code",
   "execution_count": 7,
   "metadata": {
    "collapsed": false
   },
   "outputs": [
    {
     "data": {
      "text/plain": [
       "<matplotlib.image.AxesImage at 0x10e698310>"
      ]
     },
     "execution_count": 7,
     "metadata": {},
     "output_type": "execute_result"
    },
    {
     "data": {
      "image/png": "[encoded data removed]",
      "text/plain": [
       "<matplotlib.figure.Figure at 0x10cedd650>"
      ]
     },
     "metadata": {},
     "output_type": "display_data"
    }
   ],
   "source": [
    "plt.imshow(np.dot(np.array(Uhat), U),interpolation='none')"
   ]
  },
  {
   "cell_type": "code",
   "execution_count": null,
   "metadata": {
    "collapsed": true
   },
   "outputs": [],
   "source": []
  }
 ],
 "metadata": {
  "kernelspec": {
   "display_name": "Python 2",
   "language": "python",
   "name": "python2"
  },
  "language_info": {
   "codemirror_mode": {
    "name": "ipython",
    "version": 2
   },
   "file_extension": ".py",
   "mimetype": "text/x-python",
   "name": "python",
   "nbconvert_exporter": "python",
   "pygments_lexer": "ipython2",
   "version": "2.7.9"
  }
 },
 "nbformat": 4,
 "nbformat_minor": 0
}
