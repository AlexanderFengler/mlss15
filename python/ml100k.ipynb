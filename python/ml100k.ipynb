{
 "cells": [
  {
   "cell_type": "code",
   "execution_count": 1,
   "metadata": {
    "collapsed": true
   },
   "outputs": [],
   "source": [
    "import exp_movielens\n",
    "import numpy as np\n",
    "from scipy import sparse\n",
    "import matplotlib.pylab as plt\n",
    "%matplotlib inline"
   ]
  },
  {
   "cell_type": "code",
   "execution_count": 2,
   "metadata": {
    "collapsed": true
   },
   "outputs": [],
   "source": [
    "Itr,Jtr,Ytr=exp_movielens.loaddata('datasets/ml-100k/ua.base')"
   ]
  },
  {
   "cell_type": "code",
   "execution_count": 3,
   "metadata": {
    "collapsed": true
   },
   "outputs": [],
   "source": [
    "Ite,Jte,Yte=exp_movielens.loaddata('datasets/ml-100k/ua.test')"
   ]
  },
  {
   "cell_type": "code",
   "execution_count": 4,
   "metadata": {
    "collapsed": true
   },
   "outputs": [],
   "source": [
    "# Size of the matrix\n",
    "sz=(943,1682)\n",
    "\n",
    "# Number of training points\n",
    "M=len(Ytr)"
   ]
  },
  {
   "cell_type": "code",
   "execution_count": 5,
   "metadata": {
    "collapsed": false
   },
   "outputs": [],
   "source": [
    "# Standardize Y\n",
    "yvec=Ytr/Ytr.std()"
   ]
  },
  {
   "cell_type": "code",
   "execution_count": 26,
   "metadata": {
    "collapsed": false
   },
   "outputs": [
    {
     "data": {
      "text/plain": [
       "90570"
      ]
     },
     "execution_count": 26,
     "metadata": {},
     "output_type": "execute_result"
    }
   ],
   "source": [
    "# Prepare index matrices\n",
    "indU = sparse.coo_matrix((np.ones(M),(Itr,range(M))),shape=(sz[0],M))\n",
    "indV = sparse.coo_matrix((np.ones(M),(Jtr,range(M))),shape=(sz[1],M))"
   ]
  },
  {
   "cell_type": "code",
   "execution_count": 63,
   "metadata": {
    "collapsed": true
   },
   "outputs": [],
   "source": [
    "# Initialize decomposition\n",
    "rr=50\n",
    "U=np.random.randn(sz[0],rr)\n",
    "V=np.random.randn(sz[1],rr)\n",
    "Bu=np.random.randn(sz[0],1).ravel()\n",
    "Bv=np.random.randn(sz[1],1).ravel()"
   ]
  },
  {
   "cell_type": "code",
   "execution_count": 64,
   "metadata": {
    "collapsed": false
   },
   "outputs": [
    {
     "name": "stdout",
     "output_type": "stream",
     "text": [
      "kk=0 error=80.1623 test=25.8817\n",
      "kk=10 error=1.0712 test=4.17685\n",
      "kk=20 error=0.804503 test=2.04404\n",
      "kk=30 error=0.779396 test=1.46399\n",
      "kk=40 error=0.781707 test=1.22937\n",
      "kk=50 error=0.785197 test=1.11029\n",
      "kk=60 error=0.786384 test=1.04184\n",
      "kk=70 error=0.785862 test=0.999535\n",
      "kk=80 error=0.784528 test=0.972204\n",
      "kk=90 error=0.78294 test=0.954027\n",
      "kk=100 error=0.781374 test=0.941693\n",
      "kk=110 error=0.77994 test=0.933188\n",
      "kk=120 error=0.778675 test=0.927239\n",
      "kk=130 error=0.777581 test=0.923017\n",
      "kk=140 error=0.776643 test=0.919975\n",
      "kk=150 error=0.775844 test=0.91775\n",
      "kk=160 error=0.775164 test=0.916094\n",
      "kk=170 error=0.774587 test=0.914841\n",
      "kk=180 error=0.774094 test=0.913877\n",
      "kk=190 error=0.773673 test=0.913123\n",
      "kk=200 error=0.773312 test=0.912524\n",
      "kk=210 error=0.773 test=0.912041\n",
      "kk=220 error=0.772729 test=0.911646\n",
      "kk=230 error=0.772493 test=0.91132\n",
      "kk=240 error=0.772287 test=0.911046\n",
      "kk=250 error=0.772105 test=0.910816\n",
      "kk=260 error=0.771944 test=0.91062\n",
      "kk=270 error=0.771801 test=0.910452\n",
      "kk=280 error=0.771673 test=0.910308\n",
      "kk=290 error=0.771558 test=0.910183\n",
      "kk=300 error=0.771455 test=0.910074\n",
      "kk=310 error=0.771362 test=0.90998\n",
      "kk=320 error=0.771278 test=0.909898\n",
      "kk=330 error=0.771202 test=0.909826\n",
      "kk=340 error=0.771133 test=0.909763\n",
      "kk=350 error=0.771069 test=0.909709\n",
      "kk=360 error=0.771012 test=0.909661\n",
      "kk=370 error=0.770959 test=0.909619\n",
      "kk=380 error=0.77091 test=0.909583\n",
      "kk=390 error=0.770865 test=0.909551\n",
      "kk=400 error=0.770824 test=0.909524\n",
      "kk=410 error=0.770786 test=0.9095\n",
      "kk=420 error=0.770751 test=0.90948\n",
      "kk=430 error=0.770719 test=0.909463\n",
      "kk=440 error=0.770689 test=0.909448\n",
      "kk=450 error=0.770661 test=0.909436\n",
      "kk=460 error=0.770636 test=0.909426\n",
      "kk=470 error=0.770612 test=0.909418\n",
      "kk=480 error=0.77059 test=0.909411\n",
      "kk=490 error=0.770569 test=0.909406\n",
      "kk=500 error=0.77055 test=0.909402\n",
      "kk=510 error=0.770532 test=0.9094\n",
      "kk=520 error=0.770516 test=0.909398\n",
      "kk=530 error=0.7705 test=0.909398\n",
      "kk=540 error=0.770486 test=0.909398\n",
      "kk=550 error=0.770472 test=0.909399\n",
      "kk=560 error=0.77046 test=0.909401\n",
      "kk=570 error=0.770448 test=0.909404\n",
      "kk=580 error=0.770438 test=0.909407\n",
      "kk=590 error=0.770427 test=0.90941\n",
      "kk=600 error=0.770418 test=0.909414\n",
      "kk=610 error=0.770409 test=0.909418\n",
      "kk=620 error=0.770401 test=0.909423\n",
      "kk=630 error=0.770393 test=0.909427\n",
      "kk=640 error=0.770386 test=0.909432\n",
      "kk=650 error=0.77038 test=0.909438\n",
      "kk=660 error=0.770373 test=0.909443\n",
      "kk=670 error=0.770368 test=0.909449\n",
      "kk=680 error=0.770362 test=0.909454\n",
      "kk=690 error=0.770357 test=0.90946\n",
      "kk=700 error=0.770353 test=0.909466\n",
      "kk=710 error=0.770348 test=0.909472\n",
      "kk=720 error=0.770344 test=0.909478\n",
      "kk=730 error=0.770341 test=0.909484\n",
      "kk=740 error=0.770337 test=0.90949\n",
      "kk=750 error=0.770334 test=0.909497\n",
      "kk=760 error=0.770331 test=0.909503\n",
      "kk=770 error=0.770329 test=0.909509\n",
      "kk=780 error=0.770326 test=0.909515\n",
      "kk=790 error=0.770324 test=0.909521\n",
      "kk=800 error=0.770322 test=0.909527\n",
      "kk=810 error=0.77032 test=0.909533\n",
      "kk=820 error=0.770318 test=0.909539\n",
      "kk=830 error=0.770317 test=0.909545\n",
      "kk=840 error=0.770315 test=0.909551\n",
      "kk=850 error=0.770314 test=0.909557\n",
      "kk=860 error=0.770313 test=0.909562\n",
      "kk=870 error=0.770312 test=0.909568\n",
      "kk=880 error=0.770311 test=0.909574\n",
      "kk=890 error=0.77031 test=0.909579\n",
      "kk=900 error=0.770309 test=0.909585\n",
      "kk=910 error=0.770309 test=0.90959\n",
      "kk=920 error=0.770308 test=0.909595\n",
      "kk=930 error=0.770308 test=0.909601\n",
      "kk=940 error=0.770308 test=0.909606\n",
      "kk=950 error=0.770307 test=0.909611\n",
      "kk=960 error=0.770307 test=0.909616\n",
      "kk=970 error=0.770307 test=0.909621\n",
      "kk=980 error=0.770307 test=0.909626\n",
      "kk=990 error=0.770307 test=0.909631\n"
     ]
    }
   ],
   "source": [
    "# Gradient descent with L2 regularization\n",
    "maxiter=1000\n",
    "step=2e-3\n",
    "lmd=20\n",
    "for kk in range(maxiter):\n",
    "    pred = (U[Itr,:]*V[Jtr,:]).sum(axis=1)+Bu[Itr]+Bv[Jtr]\n",
    "    gg = (pred - yvec).reshape((M,1))\n",
    "    Unew  = (1-step*lmd) * U - step * (indU*(gg * V[Jtr,:]))\n",
    "    Vnew  = (1-step*lmd) * V - step * (indV*(gg * U[Itr,:]))\n",
    "    Bunew = Bu - step * (indU * gg).ravel()\n",
    "    Bvnew = Bv - step * (indV * gg).ravel()\n",
    "    U, V=Unew, Vnew; Bu, Bv=Bunew, Bvnew\n",
    "    if kk % 10 == 0:\n",
    "        pred = (U[Ite,:]*V[Jte,:]).sum(axis=1)+Bu[Ite]+Bv[Jte]\n",
    "        errte=np.mean((Ytr.std()*pred - Yte)**2)\n",
    "        print 'kk=%d error=%g test=%g' % (kk, ((Ytr.std()*gg)**2).sum()/M, errte)"
   ]
  },
  {
   "cell_type": "code",
   "execution_count": 65,
   "metadata": {
    "collapsed": false
   },
   "outputs": [
    {
     "data": {
      "text/plain": [
       "[<matplotlib.lines.Line2D at 0x119524790>]"
      ]
     },
     "execution_count": 65,
     "metadata": {},
     "output_type": "execute_result"
    },
    {
     "data": {
      "image/png": "[encoded data removed]",
      "text/plain": [
       "<matplotlib.figure.Figure at 0x11936e6d0>"
      ]
     },
     "metadata": {},
     "output_type": "display_data"
    }
   ],
   "source": [
    "plt.plot(np.linalg.svd(V,compute_uv=False),'-x')"
   ]
  },
  {
   "cell_type": "code",
   "execution_count": 66,
   "metadata": {
    "collapsed": false
   },
   "outputs": [
    {
     "data": {
      "text/plain": [
       "0.90963478559264266"
      ]
     },
     "execution_count": 66,
     "metadata": {},
     "output_type": "execute_result"
    }
   ],
   "source": [
    "pred = (U[Ite,:]*V[Jte,:]).sum(axis=1)+Bu[Ite]+Bv[Jte]\n",
    "np.mean((Ytr.std()*pred - Yte)**2)"
   ]
  },
  {
   "cell_type": "code",
   "execution_count": 70,
   "metadata": {
    "collapsed": false
   },
   "outputs": [
    {
     "data": {
      "text/plain": [
       "0.75059817488851055"
      ]
     },
     "execution_count": 70,
     "metadata": {},
     "output_type": "execute_result"
    }
   ],
   "source": [
    "np.mean(np.abs(Ytr.std()*pred-Yte))"
   ]
  },
  {
   "cell_type": "code",
   "execution_count": null,
   "metadata": {
    "collapsed": true
   },
   "outputs": [],
   "source": []
  }
 ],
 "metadata": {
  "kernelspec": {
   "display_name": "Python 2",
   "language": "python",
   "name": "python2"
  },
  "language_info": {
   "codemirror_mode": {
    "name": "ipython",
    "version": 2
   },
   "file_extension": ".py",
   "mimetype": "text/x-python",
   "name": "python",
   "nbconvert_exporter": "python",
   "pygments_lexer": "ipython2",
   "version": "2.7.9"
  }
 },
 "nbformat": 4,
 "nbformat_minor": 0
}
