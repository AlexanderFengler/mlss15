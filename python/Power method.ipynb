{
 "cells": [
  {
   "cell_type": "code",
   "execution_count": 1,
   "metadata": {
    "collapsed": false
   },
   "outputs": [],
   "source": [
    "import numpy as np\n",
    "from scipy import sparse\n",
    "import matplotlib.pylab as plt\n",
    "from scipy.io import loadmat\n",
    "import tensor\n",
    "%matplotlib inline"
   ]
  },
  {
   "cell_type": "code",
   "execution_count": 2,
   "metadata": {
    "collapsed": true
   },
   "outputs": [],
   "source": [
    "U=tensor.randomortho(50,10)"
   ]
  },
  {
   "cell_type": "code",
   "execution_count": 6,
   "metadata": {
    "collapsed": true
   },
   "outputs": [],
   "source": [
    "X0=np.dot(U.reshape((50,1,1,10)) * U.reshape((50,1,10)) * U, range(1,11))\n",
    "Y=X0 # +1.0/np.sqrt(50)*np.random.randn(50,50,50) # (noise)"
   ]
  },
  {
   "cell_type": "code",
   "execution_count": 7,
   "metadata": {
    "collapsed": false
   },
   "outputs": [
    {
     "name": "stdout",
     "output_type": "stream",
     "text": [
      "kk=0, val=0.240605 res=1.06508\n",
      "kk=1, val=3.69972 res=0.125809\n",
      "kk=2, val=7.46225 res=0.0654254\n",
      "kk=3, val=8.96107 res=0.00207202\n",
      "kk=4, val=8.99998 res=1.03339e-06\n",
      "kk=5, val=9 res=2.3781e-13\n",
      " norm(X)=17.4356\n",
      "kk=0, val=0.3134 res=1.06163\n",
      "kk=1, val=4.01893 res=0.0897959\n",
      "kk=2, val=7.09811 res=0.0826089\n",
      "kk=3, val=9.68313 res=0.0133757\n",
      "kk=4, val=9.99751 res=0.000122542\n",
      "kk=5, val=10 res=7.72184e-09\n",
      " norm(X)=14.2829\n",
      "kk=0, val=0.390427 res=0.859562\n",
      "kk=1, val=5.24766 res=0.0411606\n",
      "kk=2, val=5.95104 res=0.00351829\n",
      "kk=3, val=5.99973 res=2.23893e-05\n",
      "kk=4, val=6 res=7.11018e-10\n",
      " norm(X)=12.9615\n",
      "kk=0, val=0.630431 res=1.18871\n",
      "kk=1, val=7.50559 res=0.0285436\n",
      "kk=2, val=7.9985 res=9.27433e-05\n",
      "kk=3, val=8 res=2.17298e-09\n",
      " norm(X)=10.198\n",
      "kk=0, val=0.157358 res=0.90371\n",
      "kk=1, val=6.46773 res=0.0322995\n",
      "kk=2, val=6.99498 res=0.000351037\n",
      "kk=3, val=7 res=4.05486e-08\n",
      " norm(X)=7.4162\n",
      "kk=0, val=0.241402 res=1.29891\n",
      "kk=1, val=4.02513 res=0.0699819\n",
      "kk=2, val=4.96357 res=0.00343141\n",
      "kk=3, val=4.99997 res=3.42536e-06\n",
      "kk=4, val=5 res=3.01548e-12\n",
      " norm(X)=5.47723\n",
      "kk=0, val=0.238028 res=0.751695\n",
      "kk=1, val=3.96297 res=0.00405607\n",
      "kk=2, val=3.99983 res=2.14204e-05\n",
      "kk=3, val=4 res=5.26047e-10\n",
      " norm(X)=3.74166\n",
      "kk=0, val=0.0379155 res=1.08958\n",
      "kk=1, val=2.65879 res=0.0390272\n",
      "kk=2, val=2.98445 res=0.00235705\n",
      "kk=3, val=2.99996 res=5.874e-06\n",
      "kk=4, val=3 res=3.09508e-11\n",
      " norm(X)=2.23607\n",
      "kk=0, val=0.0215705 res=1.12584\n",
      "kk=1, val=1.73567 res=0.0441301\n",
      "kk=2, val=1.98795 res=0.00278886\n",
      "kk=3, val=1.99998 res=4.58733e-06\n",
      "kk=4, val=2 res=1.0586e-11\n",
      " norm(X)=1\n",
      "kk=0, val=0.00219903 res=1.04689\n",
      "kk=1, val=1 res=2.31148e-13\n",
      " norm(X)=7.34549e-07\n"
     ]
    }
   ],
   "source": [
    "# Power method\n",
    "X=Y\n",
    "Uhat=[]\n",
    "vals=[]\n",
    "for rr in range(10):\n",
    "    uu=np.random.randn(50); uu=uu/np.linalg.norm(uu)\n",
    "    for kk in range(50):\n",
    "        unew = ((X * uu).sum(2) * uu).sum(1);\n",
    "        val=np.linalg.norm(unew)\n",
    "        unew = unew/val\n",
    "        res  = 1-np.dot(unew.T,uu)\n",
    "        print 'kk=%d, val=%g res=%g' % (kk, val, res)\n",
    "        uu=unew\n",
    "        if res<1e-6:\n",
    "            break\n",
    "    Uhat.append(uu)\n",
    "    vals.append(val)\n",
    "    X=X-val* tensor.outer((uu,uu,uu))\n",
    "    print ' norm(X)=%g' % (np.linalg.norm(X.ravel()))\n"
   ]
  },
  {
   "cell_type": "code",
   "execution_count": 8,
   "metadata": {
    "collapsed": false
   },
   "outputs": [
    {
     "data": {
      "text/plain": [
       "<matplotlib.image.AxesImage at 0x10e258d50>"
      ]
     },
     "execution_count": 8,
     "metadata": {},
     "output_type": "execute_result"
    },
    {
     "data": {
      "image/png": "[encoded data removed]",
      "text/plain": [
       "<matplotlib.figure.Figure at 0x10cf56a90>"
      ]
     },
     "metadata": {},
     "output_type": "display_data"
    }
   ],
   "source": [
    "import matplotlib.pylab as plt\n",
    "plt.imshow(np.dot(np.array(Uhat), U),interpolation='none')"
   ]
  },
  {
   "cell_type": "code",
   "execution_count": 9,
   "metadata": {
    "collapsed": false
   },
   "outputs": [
    {
     "data": {
      "text/plain": [
       "[8.9999999999957225,\n",
       " 9.999999845543952,\n",
       " 5.9999999914672442,\n",
       " 7.9999999652305487,\n",
       " 6.9999994321837535,\n",
       " 4.9999999999698463,\n",
       " 3.9999999957914216,\n",
       " 2.999999999814293,\n",
       " 1.9999999999576568,\n",
       " 0.99999999999953748]"
      ]
     },
     "execution_count": 9,
     "metadata": {},
     "output_type": "execute_result"
    }
   ],
   "source": [
    "vals"
   ]
  },
  {
   "cell_type": "code",
   "execution_count": null,
   "metadata": {
    "collapsed": true
   },
   "outputs": [],
   "source": []
  }
 ],
 "metadata": {
  "kernelspec": {
   "display_name": "Python 2",
   "language": "python",
   "name": "python2"
  },
  "language_info": {
   "codemirror_mode": {
    "name": "ipython",
    "version": 2
   },
   "file_extension": ".py",
   "mimetype": "text/x-python",
   "name": "python",
   "nbconvert_exporter": "python",
   "pygments_lexer": "ipython2",
   "version": "2.7.9"
  }
 },
 "nbformat": 4,
 "nbformat_minor": 0
}
